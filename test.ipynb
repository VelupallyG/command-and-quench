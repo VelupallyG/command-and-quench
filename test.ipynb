{
 "cells": [
  {
   "cell_type": "code",
   "execution_count": 1,
   "id": "0d59ca3f",
   "metadata": {},
   "outputs": [
    {
     "name": "stdout",
     "output_type": "stream",
     "text": [
      "WebSocket server started on ws://localhost:8765\n"
     ]
    }
   ],
   "source": [
    "import asyncio\n",
    "import websockets\n",
    "import threading\n",
    "\n",
    "async def echo_server(websocket):\n",
    "    print(\"Server: Client connected\")\n",
    "    try:\n",
    "        async for message in websocket:\n",
    "            print(f\"Server received: {message}\")\n",
    "            await websocket.send(f\"Echo: {message}\")\n",
    "    except websockets.exceptions.ConnectionClosed:\n",
    "        print(\"Server: Client disconnected\")\n",
    "\n",
    "def start_server():\n",
    "    loop = asyncio.new_event_loop()\n",
    "    asyncio.set_event_loop(loop)\n",
    "\n",
    "    async def run_server():\n",
    "        async with websockets.serve(echo_server, \"localhost\", 8765):\n",
    "            await asyncio.Future()  # Run forever\n",
    "\n",
    "    loop.run_until_complete(run_server())\n",
    "\n",
    "# Start server in background thread\n",
    "server_thread = threading.Thread(target=start_server, daemon=True)\n",
    "server_thread.start()\n",
    "\n",
    "print(\"WebSocket server started on ws://localhost:8765\")"
   ]
  },
  {
   "cell_type": "code",
   "execution_count": null,
   "id": "347e21da",
   "metadata": {},
   "outputs": [],
   "source": []
  },
  {
   "cell_type": "code",
   "execution_count": null,
   "id": "4b65b94b",
   "metadata": {},
   "outputs": [],
   "source": []
  },
  {
   "cell_type": "code",
   "execution_count": 2,
   "id": "76e8e6e8",
   "metadata": {},
   "outputs": [
    {
     "name": "stdout",
     "output_type": "stream",
     "text": [
      "Server: Client connected\n",
      "Client sending: Hello from notebook!\n",
      "Server received: Hello from notebook!\n",
      "Client received: Echo: Hello from notebook!\n"
     ]
    }
   ],
   "source": [
    "async def test_client():\n",
    "    uri = \"ws://localhost:8765\"\n",
    "    try:\n",
    "        async with websockets.connect(uri) as websocket:\n",
    "            msg = \"Hello from notebook!\"\n",
    "            print(f\"Client sending: {msg}\")\n",
    "            await websocket.send(msg)\n",
    "            response = await websocket.recv()\n",
    "            print(f\"Client received: {response}\")\n",
    "    except Exception as e:\n",
    "        print(f\"WebSocket error: {e}\")\n",
    "\n",
    "await test_client()"
   ]
  },
  {
   "cell_type": "code",
   "execution_count": null,
   "id": "abd62cc6",
   "metadata": {},
   "outputs": [],
   "source": []
  }
 ],
 "metadata": {
  "kernelspec": {
   "display_name": "drink",
   "language": "python",
   "name": "python3"
  },
  "language_info": {
   "codemirror_mode": {
    "name": "ipython",
    "version": 3
   },
   "file_extension": ".py",
   "mimetype": "text/x-python",
   "name": "python",
   "nbconvert_exporter": "python",
   "pygments_lexer": "ipython3",
   "version": "3.11.8"
  }
 },
 "nbformat": 4,
 "nbformat_minor": 5
}
