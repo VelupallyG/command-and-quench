{
 "cells": [
  {
   "cell_type": "markdown",
   "id": "264ecf0a",
   "metadata": {},
   "source": [
    "#### Start Websocket Server\n"
   ]
  },
  {
   "cell_type": "code",
   "execution_count": null,
   "id": "0d59ca3f",
   "metadata": {},
   "outputs": [
    {
     "name": "stdout",
     "output_type": "stream",
     "text": [
      "WebSocket server started on ws://localhost:8765\n"
     ]
    },
    {
     "name": "stderr",
     "output_type": "stream",
     "text": [
      "Exception in thread Thread-4 (start_server):\n",
      "Traceback (most recent call last):\n",
      "  File \"C:\\Program Files\\WindowsApps\\PythonSoftwareFoundation.Python.3.11_3.11.2544.0_x64__qbz5n2kfra8p0\\Lib\\threading.py\", line 1045, in _bootstrap_inner\n",
      "    self.run()\n",
      "  File \"C:\\Users\\EWOLF2\\AppData\\Local\\Packages\\PythonSoftwareFoundation.Python.3.11_qbz5n2kfra8p0\\LocalCache\\local-packages\\Python311\\site-packages\\ipykernel\\ipkernel.py\", line 766, in run_closure\n",
      "    _threading_Thread_run(self)\n",
      "  File \"C:\\Program Files\\WindowsApps\\PythonSoftwareFoundation.Python.3.11_3.11.2544.0_x64__qbz5n2kfra8p0\\Lib\\threading.py\", line 982, in run\n",
      "    self._target(*self._args, **self._kwargs)\n",
      "  File \"C:\\Users\\EWOLF2\\AppData\\Local\\Temp\\ipykernel_26108\\306890880.py\", line 22, in start_server\n",
      "  File \"C:\\Program Files\\WindowsApps\\PythonSoftwareFoundation.Python.3.11_3.11.2544.0_x64__qbz5n2kfra8p0\\Lib\\asyncio\\base_events.py\", line 654, in run_until_complete\n",
      "    return future.result()\n",
      "           ^^^^^^^^^^^^^^^\n",
      "  File \"C:\\Users\\EWOLF2\\AppData\\Local\\Temp\\ipykernel_26108\\306890880.py\", line 19, in run_server\n",
      "  File \"C:\\Users\\EWOLF2\\AppData\\Local\\Packages\\PythonSoftwareFoundation.Python.3.11_qbz5n2kfra8p0\\LocalCache\\local-packages\\Python311\\site-packages\\websockets\\legacy\\server.py\", line 1113, in __aenter__\n",
      "    return await self\n",
      "           ^^^^^^^^^^\n",
      "  File \"C:\\Users\\EWOLF2\\AppData\\Local\\Packages\\PythonSoftwareFoundation.Python.3.11_qbz5n2kfra8p0\\LocalCache\\local-packages\\Python311\\site-packages\\websockets\\legacy\\server.py\", line 1131, in __await_impl__\n",
      "    server = await self._create_server()\n",
      "             ^^^^^^^^^^^^^^^^^^^^^^^^^^^\n",
      "  File \"C:\\Program Files\\WindowsApps\\PythonSoftwareFoundation.Python.3.11_3.11.2544.0_x64__qbz5n2kfra8p0\\Lib\\asyncio\\base_events.py\", line 1536, in create_server\n",
      "    raise OSError(err.errno, msg) from None\n",
      "OSError: [Errno 10048] error while attempting to bind on address ('127.0.0.1', 8765): only one usage of each socket address (protocol/network address/port) is normally permitted\n"
     ]
    }
   ],
   "source": [
    "import asyncio\n",
    "import websockets\n",
    "import threading\n",
    "\n",
    "async def echo_server(websocket):\n",
    "    print(\"Server: Client connected\")\n",
    "    try:\n",
    "        async for message in websocket:\n",
    "            print(f\"Server received: {message}\")\n",
    "            await websocket.send(f\"Echo: {message}\")\n",
    "    except websockets.exceptions.ConnectionClosed:\n",
    "        print(\"Server: Client disconnected\")\n",
    "\n",
    "def start_server():\n",
    "    loop = asyncio.new_event_loop()\n",
    "    asyncio.set_event_loop(loop)\n",
    "\n",
    "    async def run_server():\n",
    "        async with websockets.serve(echo_server, \"0.0.0.0\", 8765):\n",
    "            await asyncio.Future()  # Run forever\n",
    "\n",
    "    loop.run_until_complete(run_server())\n",
    "\n",
    "# Start server in background thread\n",
    "server_thread = threading.Thread(target=start_server, daemon=True)\n",
    "server_thread.start()\n",
    "\n",
    "print(\"WebSocket server started on ws://localhost:8765\")"
   ]
  }
 ],
 "metadata": {
  "kernelspec": {
   "display_name": "Python 3",
   "language": "python",
   "name": "python3"
  },
  "language_info": {
   "codemirror_mode": {
    "name": "ipython",
    "version": 3
   },
   "file_extension": ".py",
   "mimetype": "text/x-python",
   "name": "python",
   "nbconvert_exporter": "python",
   "pygments_lexer": "ipython3",
   "version": "3.11.9"
  }
 },
 "nbformat": 4,
 "nbformat_minor": 5
}
